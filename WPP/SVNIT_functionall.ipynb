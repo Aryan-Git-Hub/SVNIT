{
 "cells": [
  {
   "cell_type": "markdown",
   "metadata": {},
   "source": [
    "### Python 3.0 Function All #"
   ]
  },
  {
   "cell_type": "markdown",
   "metadata": {},
   "source": [
    "# Function Syntax\n",
    "'''\n",
    "def function_name(variable1,variable2,....)  # function  header\n",
    "    statement block   #  function Body\n",
    "    return [expression]\n",
    "'''"
   ]
  },
  {
   "cell_type": "markdown",
   "metadata": {},
   "source": [
    "#  To Write a function that display a string repeately\n",
    "\n",
    "      "
   ]
  },
  {
   "cell_type": "code",
   "execution_count": null,
   "metadata": {},
   "outputs": [
    {
     "ename": "",
     "evalue": "",
     "output_type": "error",
     "traceback": [
      "\u001b[1;31mRunning cells with 'Python 3.12.4' requires the ipykernel package.\n",
      "\u001b[1;31mRun the following command to install 'ipykernel' into the Python environment. \n",
      "\u001b[1;31mCommand: '/usr/local/bin/python3 -m pip install ipykernel -U --user --force-reinstall'"
     ]
    }
   ],
   "source": [
    "def func():\n",
    "    for i in range(4):\n",
    "        print(\"Hello World\")\n",
    "func()"
   ]
  },
  {
   "cell_type": "markdown",
   "metadata": {},
   "source": [
    "#  Simple Calculator\n",
    "'''\n"
   ]
  },
  {
   "cell_type": "code",
   "execution_count": null,
   "metadata": {},
   "outputs": [],
   "source": [
    "import math\n",
    "print(\"\\n__Calculator__\")\n",
    "def add(a,b):\n",
    "    a+=b\n",
    "    return a\n",
    "def sub(a,b):\n",
    "    if a>=b:\n",
    "        a-=b\n",
    "        return a\n",
    "    else :\n",
    "        b-=a\n",
    "        return b\n",
    "def multi(a,b):\n",
    "    a*=b\n",
    "    return a\n",
    "def div(a,b):\n",
    "    a/=b\n",
    "    return a\n",
    "def sqr(a):\n",
    "    x = math.sqrt(a)\n",
    "    return x\n",
    "while(True):\n",
    "    print(\"\\n\\n Choose the operation you want to perform\")\n",
    "    print(\"\\n \\t 1.Addition\")\n",
    "    print(\"\\n \\t 2.Substraction\")\n",
    "    print(\"\\n \\t 3. Division\")\n",
    "    print(\"\\n \\t 4 Multiplication\")\n",
    "    print(\"\\n \\t 5 Square Root\")\n",
    "    choice = int(input('>'))\n",
    "    if(choice==1):\n",
    "        print(\"\\n\\n Enter the two numbers\")\n",
    "        num1  = int(input(\"Enter num1\"))\n",
    "        num2  = int(input(\"Enter num2\"))\n",
    "        print(\"Addation \",add(num1,num2))\n",
    "    elif(choice==2):\n",
    "        print(\"\\n\\n Enter the two numbers\")\n",
    "        num1  = int(input(\"Enter num1\"))\n",
    "        num2  = int(input(\"Enter num2\"))\n",
    "        print(\"Substraction \",sub(num1,num2))\n",
    "    elif(choice==3):\n",
    "        print(\"\\n\\n Enter the two numbers\")\n",
    "        num1  = int(input(\"Enter num1\"))\n",
    "        num2  = int(input(\"Enter num2\"))\n",
    "        print(\"Division\",div(num1,num2))\n",
    "    elif(choice==4):\n",
    "        print(\"\\n\\n Enter the two numbers\")\n",
    "        num1  = int(input(\"Enter num1\"))\n",
    "        num2  = int(input(\"Enter num2\"))\n",
    "        print(\"Multiplication \",multi(num1,num2))\n",
    "    elif(choice==5):\n",
    "        print(\"\\n\\n Enter the one numbers\")\n",
    "        num1  = int(input(\"Enter num1\"))\n",
    "        print(\"Square :\",sqr(num1))\n",
    "    else:\n",
    "        print(\"\\n You are chose to exit Bye..\")\n",
    "        break\n",
    "    "
   ]
  },
  {
   "cell_type": "markdown",
   "metadata": {},
   "source": [
    "#  Program to understand the difference between local and global variable"
   ]
  },
  {
   "cell_type": "code",
   "execution_count": null,
   "metadata": {},
   "outputs": [],
   "source": [
    "num1  = 10\n",
    "print(\"Global varaible num1=\",num1)\n",
    "def func(num2):\n",
    "    print(\"Local varible value \",num2)\n",
    "    num3  = 30\n",
    "    print(\"Local varible value \",num3)\n",
    "func(20)\n",
    "print(\"Num1 Again Print\",num1)\n",
    "print(\"Num3 variable outside function=\",num3)"
   ]
  },
  {
   "cell_type": "code",
   "execution_count": null,
   "metadata": {},
   "outputs": [],
   "source": [
    "num1  = 10\n",
    "print(\"Global varaible num1=\",num1)\n",
    "def func(num2):\n",
    "    print(\"Local varible value \",num2)\n",
    "    global num3  # global variable declaration\n",
    "    num3=40   # global variable not initilize at the time of declaration\n",
    "    print(\"Local varible value \",num3)\n",
    "func(20)\n",
    "print(\"Num1 Again Print\",num1)\n",
    "print(\"Num3 variable outside function=\",num3)"
   ]
  },
  {
   "cell_type": "markdown",
   "metadata": {
    "collapsed": true,
    "jupyter": {
     "outputs_hidden": true
    }
   },
   "source": [
    "#  Program to demostrate modifying a gloabl variable"
   ]
  },
  {
   "cell_type": "code",
   "execution_count": null,
   "metadata": {},
   "outputs": [],
   "source": [
    "var =\"Good\"\n",
    "def show():\n",
    "    global var\n",
    "    var = \"Morning\"\n",
    "    print(\"In Function var is\",var)\n",
    "show()\n",
    "print(\"Outside function var is \",var)\n",
    "var =\"Fantastic\"\n",
    "print(\"Outside function \",var)"
   ]
  },
  {
   "cell_type": "markdown",
   "metadata": {},
   "source": [
    "# Program to demostrate access of variable in inner and outer function"
   ]
  },
  {
   "cell_type": "code",
   "execution_count": null,
   "metadata": {},
   "outputs": [],
   "source": [
    "def outer_fun():\n",
    "    outer_var=10\n",
    "    def inner_func():\n",
    "        inner_var = 20\n",
    "        print(\"Outer Variable=\",outer_var)\n",
    "        print(\"Inner Variable=\",inner_var)\n",
    "    inner_func()\n",
    "    print(\"Outer Variable =\",outer_var)\n",
    "    print(\"Inner Variable=\",inner_var)\n",
    "outer_fun()"
   ]
  },
  {
   "cell_type": "code",
   "execution_count": null,
   "metadata": {},
   "outputs": [],
   "source": [
    "def outer_fun():\n",
    "    outer_var=10\n",
    "    def inner_func():\n",
    "        global inner_var\n",
    "        inner_var=20\n",
    "        print(\"Outer Variable=\",outer_var)\n",
    "        print(\"Inner Variable=\",inner_var)\n",
    "    inner_func()\n",
    "    print(\"Outer Variable =\",outer_var)\n",
    "    print(\"Inner Variable=\",inner_var)\n",
    "outer_fun()"
   ]
  },
  {
   "cell_type": "markdown",
   "metadata": {},
   "source": [
    "# Program that demostrate using a local variable with same name as that of global"
   ]
  },
  {
   "cell_type": "code",
   "execution_count": null,
   "metadata": {},
   "outputs": [],
   "source": [
    "def foo():\n",
    "    print(str) # global \n",
    "    str  = \"Hello World\" # Local\n",
    "    print(str)\n",
    "str = \"Welcome to Python Programming\"\n",
    "print(str)\n",
    "foo()\n"
   ]
  },
  {
   "cell_type": "code",
   "execution_count": null,
   "metadata": {},
   "outputs": [],
   "source": [
    "def foo():\n",
    "    global str\n",
    "    print(str) # global \n",
    "    str  = \"Hello World\" # Local\n",
    "    print(str)\n",
    "str = \"Welcome to Python Programming\"\n",
    "print(str)\n",
    "foo()"
   ]
  },
  {
   "cell_type": "markdown",
   "metadata": {},
   "source": [
    "## Program to Write a function without  a return statement and try to print its return value As mentioned earlier, such a function should return None"
   ]
  },
  {
   "cell_type": "code",
   "execution_count": null,
   "metadata": {},
   "outputs": [],
   "source": [
    "def display(str):\n",
    "    print(str)\n",
    "x = display(\"Hello World\")\n",
    "print(x)\n",
    "print(display(\"Hello Again\"))"
   ]
  },
  {
   "cell_type": "markdown",
   "metadata": {},
   "source": [
    "##  Program to write another function which return an integer to the caller\n"
   ]
  },
  {
   "cell_type": "code",
   "execution_count": null,
   "metadata": {},
   "outputs": [],
   "source": [
    "def cube(x):\n",
    "    return(x*x*x)\n",
    "num =10\n",
    "result  = cube(num)\n",
    "print(\"Cube of \",num,\"=\",result)"
   ]
  },
  {
   "cell_type": "markdown",
   "metadata": {},
   "source": [
    "# Program to demonstrate keyword arguments"
   ]
  },
  {
   "cell_type": "code",
   "execution_count": null,
   "metadata": {},
   "outputs": [],
   "source": [
    "def display(str,int_x,float_y):\n",
    "    print(\"The String is:\",str)\n",
    "    print(\"The Integer value is\",int_x)\n",
    "    print(\"The Float Value is\",float_y)\n",
    "    \n",
    "display(float_y=56789.045,str=\"Hello\",int_x=1234)"
   ]
  },
  {
   "cell_type": "markdown",
   "metadata": {},
   "source": [
    "# Program to demonstrate default argument"
   ]
  },
  {
   "cell_type": "code",
   "execution_count": null,
   "metadata": {},
   "outputs": [],
   "source": [
    "def display(name,course=\"BTech\",marks):\n",
    "    print(\"Name:\"+name)\n",
    "    print(\"Course :\"+course)\n",
    "    print(\"Marks:\",marks)\n",
    "display(name=\"Amit\",90)"
   ]
  },
  {
   "cell_type": "markdown",
   "metadata": {},
   "source": [
    "# Variable-lenght Argument"
   ]
  },
  {
   "cell_type": "code",
   "execution_count": null,
   "metadata": {},
   "outputs": [],
   "source": [
    "def func(name,*fav_subject):\n",
    "    print(\"\\n\",name,\"Likes to read\")\n",
    "    for subject in fav_subject:\n",
    "        print(subject)\n",
    "func(\"Praveen\",\"Deep Learning\",\"Andriod Programming\")\n",
    "func(\"Anvi\",\"C\",\"DDA\")\n",
    "func(\"Krish\")"
   ]
  },
  {
   "cell_type": "markdown",
   "metadata": {},
   "source": [
    "# Lamda Function or Anonymous function\n",
    "- Lambda function or Anonymous Functions are so called because they are not declared as other functions using the def keyword. Rather they are created using the lambda keyword.\n",
    "- Lambda functions are throw-away function\n",
    "- lambda arguments : expression\n",
    "- lambda function can take any number of argument s\n",
    "- lambda function can return just one value in  the form of an expression\n",
    "- lambda function definition does not have an explicit return statement but it always contains an expression which returned .\n",
    "- They are a one-line version of a function and hence cannot contain multiple expression\n",
    "- They cannot access variable other than those in their parameter list\n",
    "- Lambda function cannot even access global variable\n",
    "- You can pass lambda function as arguments in other functions"
   ]
  },
  {
   "cell_type": "code",
   "execution_count": null,
   "metadata": {},
   "outputs": [],
   "source": [
    "# Even /Odd Number\n",
    "numbers=[11,12,34,56,75,22,33,78]\n",
    "#numbers=[None]\n",
    "def even(x):\n",
    "    return x%2==0\n",
    "    #return x\n",
    "even = list(filter(even,numbers))\n",
    "print(\"Even number :\",even)"
   ]
  },
  {
   "cell_type": "code",
   "execution_count": null,
   "metadata": {},
   "outputs": [],
   "source": [
    "# Even /Odd Number\n",
    "numbers=[11,20,31,40,51,60,71,80,91]\n",
    "evenn=list(filter(lambda x: x%2==0 and x>50,numbers))\n",
    "print(\"Even number greater than 50\",evenn)"
   ]
  },
  {
   "cell_type": "code",
   "execution_count": null,
   "metadata": {},
   "outputs": [],
   "source": [
    "sum = lambda x,y : x+y\n",
    "print(\"Sum =\",sum(3,5))"
   ]
  },
  {
   "cell_type": "code",
   "execution_count": null,
   "metadata": {},
   "outputs": [],
   "source": [
    "\n",
    "def small(a,b):\n",
    "    if(a>b):\n",
    "        return a\n",
    "    else:\n",
    "        return b\n",
    "sum = lambda x,y :x+y\n",
    "diff  = lambda x,y : x-y\n",
    "print(\"Samller of two number =\",small(sum(-3,-2),diff(-1,2)))\n",
    "\n",
    "'''\n",
    "Equivalent lambda x,y :x+y\n",
    "def sum(x, y):\n",
    "    return x + y\n",
    "'''"
   ]
  },
  {
   "cell_type": "markdown",
   "metadata": {
    "collapsed": true,
    "jupyter": {
     "outputs_hidden": true
    }
   },
   "source": [
    "# Program to use a lambd function with an ordinary funtion"
   ]
  },
  {
   "cell_type": "code",
   "execution_count": null,
   "metadata": {},
   "outputs": [],
   "source": [
    "\n",
    "\n",
    "def increment(y):\n",
    "    return(lambda x:x+1)(y)  \n",
    "a =100\n",
    "print(\"A =\",a)\n",
    "print(\"A After incrementing =\")\n",
    "b = increment(a)\n",
    "print(b)\n",
    "'''\n",
    "#(lambda x: x + 1) is defined and immediately called with the argument y\n",
    "A lambda function is an anonymous function\n",
    "def temp(x):\n",
    "    return x + 1\n",
    "'''"
   ]
  },
  {
   "cell_type": "markdown",
   "metadata": {},
   "source": [
    "# Lambda function not assigned to any variable\n"
   ]
  },
  {
   "cell_type": "code",
   "execution_count": null,
   "metadata": {},
   "outputs": [],
   "source": [
    "print((lambda x:x*2)(9))  # 9 in pass fucntion argument"
   ]
  },
  {
   "cell_type": "markdown",
   "metadata": {},
   "source": [
    "# Program  that pass lambda function as an argument to a function "
   ]
  },
  {
   "cell_type": "code",
   "execution_count": null,
   "metadata": {},
   "outputs": [],
   "source": [
    "def func(f,n):\n",
    "    print(f(n))\n",
    "twice = lambda x: x*2\n",
    "thrice = lambda x:x*3\n",
    "func(twice,2)\n",
    "func(thrice,2)\n",
    "\n",
    "    "
   ]
  },
  {
   "cell_type": "markdown",
   "metadata": {},
   "source": [
    "# WAP to swap two numbers"
   ]
  },
  {
   "cell_type": "code",
   "execution_count": null,
   "metadata": {},
   "outputs": [],
   "source": [
    "def swap(a,b):\n",
    "    a,b = b,a\n",
    "    print(\"After swap:\")\n",
    "    print(\"Frist Number :\",a)\n",
    "    print(\"Second Number :\",b)\n",
    "a = input(\"\\n Enter the first  number \")\n",
    "b = input(\"\\n Enter  the second number \")\n",
    "print(\"Before Swap swap:\")\n",
    "print(\"Frist Number :\",a)\n",
    "print(\"Second Number :\",b)\n",
    "swap(a,b)\n"
   ]
  },
  {
   "cell_type": "markdown",
   "metadata": {},
   "source": [
    "# Assignment\n",
    "#  WAP to sum the series 1/1! + 4/2!+27/3! +...."
   ]
  },
  {
   "cell_type": "markdown",
   "metadata": {},
   "source": [
    "#  Recursive Function"
   ]
  },
  {
   "cell_type": "markdown",
   "metadata": {},
   "source": [
    "## Program to calcuate the factorial of number recursively"
   ]
  },
  {
   "cell_type": "code",
   "execution_count": null,
   "metadata": {},
   "outputs": [],
   "source": [
    "def fact(n):\n",
    "    if(n==1 or n==0):\n",
    "        return 1\n",
    "    else:\n",
    "        return (n*fact(n-1))\n",
    "n  = int(input(\"Enter the value of n\"))\n",
    "print(\"The factorial of\",n,\"is\",fact(n))"
   ]
  },
  {
   "cell_type": "markdown",
   "metadata": {},
   "source": [
    "# Program to  calculate GCD using recursive function"
   ]
  },
  {
   "cell_type": "code",
   "execution_count": null,
   "metadata": {},
   "outputs": [],
   "source": [
    "def GCD(x,y):\n",
    "    rem  = x%y\n",
    "    if(rem==0):\n",
    "        return y\n",
    "    else:\n",
    "        return GCD(y,rem)\n",
    "n = int(input(\"Enter the first number\"))\n",
    "m = int(input(\"Enter the second number\"))\n",
    "print(\"The GCD of numbe is\",GCD(n,m))\n"
   ]
  },
  {
   "cell_type": "markdown",
   "metadata": {},
   "source": [
    "# Assignment \n",
    "## WAP to calculate fibonacci series using recursion"
   ]
  }
 ],
 "metadata": {
  "kernelspec": {
   "display_name": "Python 3",
   "language": "python",
   "name": "python3"
  },
  "language_info": {
   "codemirror_mode": {
    "name": "ipython",
    "version": 3
   },
   "file_extension": ".py",
   "mimetype": "text/x-python",
   "name": "python",
   "nbconvert_exporter": "python",
   "pygments_lexer": "ipython3",
   "version": "3.9.6"
  }
 },
 "nbformat": 4,
 "nbformat_minor": 4
}
